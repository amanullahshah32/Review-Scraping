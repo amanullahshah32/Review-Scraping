{
  "nbformat": 4,
  "nbformat_minor": 0,
  "metadata": {
    "colab": {
      "provenance": [],
      "authorship_tag": "ABX9TyOCFushyIG8ywk9uhHC6B8+",
      "include_colab_link": true
    },
    "kernelspec": {
      "name": "python3",
      "display_name": "Python 3"
    },
    "language_info": {
      "name": "python"
    }
  },
  "cells": [
    {
      "cell_type": "markdown",
      "metadata": {
        "id": "view-in-github",
        "colab_type": "text"
      },
      "source": [
        "<a href=\"https://colab.research.google.com/github/amanullahshah32/Review-Scraping/blob/main/Attempt_2_using_google_play_scraper.ipynb\" target=\"_parent\"><img src=\"https://colab.research.google.com/assets/colab-badge.svg\" alt=\"Open In Colab\"/></a>"
      ]
    },
    {
      "cell_type": "markdown",
      "source": [
        "## **Install Libraries**"
      ],
      "metadata": {
        "id": "y-6h-KpCcDWl"
      }
    },
    {
      "cell_type": "code",
      "source": [
        "!pip install google-play-scraper\n"
      ],
      "metadata": {
        "colab": {
          "base_uri": "https://localhost:8080/"
        },
        "id": "Uouj5EcYSQxl",
        "outputId": "ca99d5aa-13ad-4af8-b4b9-ad5dc2ef534f"
      },
      "execution_count": 1,
      "outputs": [
        {
          "output_type": "stream",
          "name": "stdout",
          "text": [
            "Collecting google-play-scraper\n",
            "  Downloading google_play_scraper-1.2.7-py3-none-any.whl.metadata (50 kB)\n",
            "\u001b[?25l     \u001b[90m━━━━━━━━━━━━━━━━━━━━━━━━━━━━━━━━━━━━━━━━\u001b[0m \u001b[32m0.0/50.2 kB\u001b[0m \u001b[31m?\u001b[0m eta \u001b[36m-:--:--\u001b[0m\r\u001b[2K     \u001b[90m━━━━━━━━━━━━━━━━━━━━━━━━━━━━━━━━━━━━━━━━\u001b[0m \u001b[32m50.2/50.2 kB\u001b[0m \u001b[31m1.9 MB/s\u001b[0m eta \u001b[36m0:00:00\u001b[0m\n",
            "\u001b[?25hDownloading google_play_scraper-1.2.7-py3-none-any.whl (28 kB)\n",
            "Installing collected packages: google-play-scraper\n",
            "Successfully installed google-play-scraper-1.2.7\n"
          ]
        }
      ]
    },
    {
      "cell_type": "code",
      "source": [
        "!pip install app_store_scraper\n"
      ],
      "metadata": {
        "colab": {
          "base_uri": "https://localhost:8080/"
        },
        "id": "Nb7kO2tVSUGl",
        "outputId": "b293a5b0-67b2-4117-95a7-142a39ed081f"
      },
      "execution_count": 2,
      "outputs": [
        {
          "output_type": "stream",
          "name": "stdout",
          "text": [
            "Collecting app_store_scraper\n",
            "  Downloading app_store_scraper-0.3.5-py3-none-any.whl.metadata (5.1 kB)\n",
            "Collecting requests==2.23.0 (from app_store_scraper)\n",
            "  Downloading requests-2.23.0-py2.py3-none-any.whl.metadata (6.8 kB)\n",
            "Collecting chardet<4,>=3.0.2 (from requests==2.23.0->app_store_scraper)\n",
            "  Downloading chardet-3.0.4-py2.py3-none-any.whl.metadata (3.2 kB)\n",
            "Collecting idna<3,>=2.5 (from requests==2.23.0->app_store_scraper)\n",
            "  Downloading idna-2.10-py2.py3-none-any.whl.metadata (9.1 kB)\n",
            "Collecting urllib3!=1.25.0,!=1.25.1,<1.26,>=1.21.1 (from requests==2.23.0->app_store_scraper)\n",
            "  Downloading urllib3-1.25.11-py2.py3-none-any.whl.metadata (41 kB)\n",
            "\u001b[2K     \u001b[90m━━━━━━━━━━━━━━━━━━━━━━━━━━━━━━━━━━━━━━━━\u001b[0m \u001b[32m41.1/41.1 kB\u001b[0m \u001b[31m1.2 MB/s\u001b[0m eta \u001b[36m0:00:00\u001b[0m\n",
            "\u001b[?25hRequirement already satisfied: certifi>=2017.4.17 in /usr/local/lib/python3.10/dist-packages (from requests==2.23.0->app_store_scraper) (2024.8.30)\n",
            "Downloading app_store_scraper-0.3.5-py3-none-any.whl (8.3 kB)\n",
            "Downloading requests-2.23.0-py2.py3-none-any.whl (58 kB)\n",
            "\u001b[2K   \u001b[90m━━━━━━━━━━━━━━━━━━━━━━━━━━━━━━━━━━━━━━━━\u001b[0m \u001b[32m58.4/58.4 kB\u001b[0m \u001b[31m3.7 MB/s\u001b[0m eta \u001b[36m0:00:00\u001b[0m\n",
            "\u001b[?25hDownloading chardet-3.0.4-py2.py3-none-any.whl (133 kB)\n",
            "\u001b[2K   \u001b[90m━━━━━━━━━━━━━━━━━━━━━━━━━━━━━━━━━━━━━━━━\u001b[0m \u001b[32m133.4/133.4 kB\u001b[0m \u001b[31m6.4 MB/s\u001b[0m eta \u001b[36m0:00:00\u001b[0m\n",
            "\u001b[?25hDownloading idna-2.10-py2.py3-none-any.whl (58 kB)\n",
            "\u001b[2K   \u001b[90m━━━━━━━━━━━━━━━━━━━━━━━━━━━━━━━━━━━━━━━━\u001b[0m \u001b[32m58.8/58.8 kB\u001b[0m \u001b[31m3.7 MB/s\u001b[0m eta \u001b[36m0:00:00\u001b[0m\n",
            "\u001b[?25hDownloading urllib3-1.25.11-py2.py3-none-any.whl (127 kB)\n",
            "\u001b[2K   \u001b[90m━━━━━━━━━━━━━━━━━━━━━━━━━━━━━━━━━━━━━━━━\u001b[0m \u001b[32m128.0/128.0 kB\u001b[0m \u001b[31m7.9 MB/s\u001b[0m eta \u001b[36m0:00:00\u001b[0m\n",
            "\u001b[?25hInstalling collected packages: chardet, urllib3, idna, requests, app_store_scraper\n",
            "  Attempting uninstall: chardet\n",
            "    Found existing installation: chardet 5.2.0\n",
            "    Uninstalling chardet-5.2.0:\n",
            "      Successfully uninstalled chardet-5.2.0\n",
            "  Attempting uninstall: urllib3\n",
            "    Found existing installation: urllib3 2.2.3\n",
            "    Uninstalling urllib3-2.2.3:\n",
            "      Successfully uninstalled urllib3-2.2.3\n",
            "  Attempting uninstall: idna\n",
            "    Found existing installation: idna 3.10\n",
            "    Uninstalling idna-3.10:\n",
            "      Successfully uninstalled idna-3.10\n",
            "  Attempting uninstall: requests\n",
            "    Found existing installation: requests 2.32.3\n",
            "    Uninstalling requests-2.32.3:\n",
            "      Successfully uninstalled requests-2.32.3\n",
            "\u001b[31mERROR: pip's dependency resolver does not currently take into account all the packages that are installed. This behaviour is the source of the following dependency conflicts.\n",
            "bigframes 1.21.0 requires requests>=2.27.1, but you have requests 2.23.0 which is incompatible.\n",
            "google-colab 1.0.0 requires requests==2.32.3, but you have requests 2.23.0 which is incompatible.\n",
            "tweepy 4.14.0 requires requests<3,>=2.27.0, but you have requests 2.23.0 which is incompatible.\n",
            "yfinance 0.2.44 requires requests>=2.31, but you have requests 2.23.0 which is incompatible.\u001b[0m\u001b[31m\n",
            "\u001b[0mSuccessfully installed app_store_scraper-0.3.5 chardet-3.0.4 idna-2.10 requests-2.23.0 urllib3-1.25.11\n"
          ]
        }
      ]
    },
    {
      "cell_type": "markdown",
      "source": [
        "## **Import Dependencies**"
      ],
      "metadata": {
        "id": "QRyrnYKKcIxV"
      }
    },
    {
      "cell_type": "code",
      "execution_count": 3,
      "metadata": {
        "id": "Veo-WFVCRi8C"
      },
      "outputs": [],
      "source": [
        "from google_play_scraper import app, Sort, reviews_all\n",
        "from app_store_scraper import AppStore\n",
        "import pandas as pd\n",
        "import numpy as np\n",
        "import json, os, uuid"
      ]
    },
    {
      "cell_type": "markdown",
      "source": [
        "## **Google Play Store reviews**"
      ],
      "metadata": {
        "id": "56293VFRcMUG"
      }
    },
    {
      "cell_type": "code",
      "source": [
        "app_lists = ['com.twgbd.dims', 'com.medexplus.digitalitsheba.app', 'com.bizit.doctor.appointment', 'com.simpleappsvault.temperaturethermometerdiary', 'com.msd.professional', 'com.bondhu.daktar.daktarbondhu', 'com.arbondhu', 'com.media365ltd.doctime', 'com.msd.consumer', 'com.makio.medica', 'com.nhcps.medicode', 'com.healthtipsbd.medicineapp', 'da.bd.drug.directory', 'com.classnotebd.docterapp','com.blood.sugar.tracker.glucometer.Diary.test.diabetes.checker.info.glucose.convert.logger.health.fitness.monitor.history', 'com.classnotesbd.kobiraji_chikitsa_book', 'xray.body.scanne.ronasoftstudiosr.simulator.filter.camera', 'com.ronasoftstudios.earmaxfxpro', 'com.osudpotro', 'com.codersbucket.surokkha_app', 'com.itmedicus.dimsvet', 'in.naskar.achal.homoeopathy', 'com.bissoy.callomy3DViewer3', '', 'com.drugscom.app', 'com.AnatomyLearning.Anatomy3DViewer3', 'org.narayanahealth.nhcare', 'com.Medical.Know.Pregnant.Mother', 'net.medshr.android', 'com.classnotebd.imagetotextword',\n",
        "'com.classnotesbd.homeopathy_guide_book', 'com.mobisystems.msdict.embedded.wireless.oxford.concisemedical', 'com.healtho_max.app.production', 'com.catfishanimationstudio.MuscularSystemLtreatment', 'comite', 'sqh.jotno.patient', 'com.rtrg.xraywow', 'com.sevenonelab.harbal_medicine_treatment', 'com.catfishanimationstudio.SkeletalSystemPreview', 'me.sinacare.app.android', 'com.pulsetechCalendar', 'com.ltd.medicart', 'com.sevenonelab.bangla_medicine_info', 'com.snonapps.aidoctor', 'com.lbrc.PeriodCalendar', 'com.EAGINsoftware.dejaloYa', 'io.healthos.androidecom', 'com.digitalbithub.shen', 'com.farmer.disease.animal.farm']"
      ],
      "metadata": {
        "id": "wfmMsph_3UIF"
      },
      "execution_count": 4,
      "outputs": []
    },
    {
      "cell_type": "code",
      "source": [
        "# Create an empty DataFrame to store all reviews\n",
        "all_reviews_df = pd.DataFrame()\n"
      ],
      "metadata": {
        "id": "htff4eEIAMJI"
      },
      "execution_count": 5,
      "outputs": []
    },
    {
      "cell_type": "code",
      "source": [
        "# Loop through the list of app package names and scrape reviews for each\n",
        "%%time\n",
        "for app in app_lists:\n",
        "    try:\n",
        "        # Scrape reviews for the current app\n",
        "        reviews = reviews_all(\n",
        "            app,\n",
        "            sleep_milliseconds=0,\n",
        "            lang='en',\n",
        "            sort=Sort.NEWEST\n",
        "        )\n",
        "\n",
        "        # Convert the reviews to a DataFrame\n",
        "        reviews_df = pd.DataFrame(np.array(reviews), columns=['review'])\n",
        "        reviews_df = reviews_df.join(pd.DataFrame(reviews_df.pop('review').tolist()))\n",
        "\n",
        "        # Drop unnecessary columns\n",
        "        reviews_df.drop(columns=['userImage', 'reviewCreatedVersion'], inplace=True)\n",
        "\n",
        "        # Rename columns to desired format\n",
        "        reviews_df.rename(columns={\n",
        "            'score': 'rating',\n",
        "            'userName': 'user_name',\n",
        "            'reviewId': 'review_id',\n",
        "            'content': 'review_description',\n",
        "            'at': 'review_date',\n",
        "            'replyContent': 'developer_response',\n",
        "            'repliedAt': 'developer_response_date',\n",
        "            'thumbsUpCount': 'thumbs_up'\n",
        "        }, inplace=True)\n",
        "\n",
        "        # Insert additional columns\n",
        "        reviews_df.insert(loc=0, column='source', value='Google Play')\n",
        "        reviews_df.insert(loc=3, column='review_title', value=None)\n",
        "        reviews_df['language_code'] = 'en'\n",
        "        reviews_df['country_code'] = 'us'\n",
        "\n",
        "        # Add a column for the app package name\n",
        "        reviews_df['app_name'] = app\n",
        "\n",
        "        # Append the current app's reviews to the full DataFrame\n",
        "        all_reviews_df = pd.concat([all_reviews_df, reviews_df], ignore_index=True)\n",
        "\n",
        "        print(f\"Successfully scraped reviews for {app}\")\n",
        "\n",
        "    except Exception as e:\n",
        "        print(f\"Failed to scrape reviews for {app}: {e}\")\n",
        "\n"
      ],
      "metadata": {
        "id": "EECnrnmaAL_4",
        "outputId": "4b1d4ffb-94d1-45fa-d1e0-06f45d277f09",
        "colab": {
          "base_uri": "https://localhost:8080/"
        }
      },
      "execution_count": 6,
      "outputs": [
        {
          "output_type": "stream",
          "name": "stdout",
          "text": [
            "Successfully scraped reviews for com.twgbd.dims\n"
          ]
        },
        {
          "output_type": "stream",
          "name": "stderr",
          "text": [
            "<timed exec>:40: FutureWarning: The behavior of DataFrame concatenation with empty or all-NA entries is deprecated. In a future version, this will no longer exclude empty or all-NA columns when determining the result dtypes. To retain the old behavior, exclude the relevant entries before the concat operation.\n"
          ]
        },
        {
          "output_type": "stream",
          "name": "stdout",
          "text": [
            "Successfully scraped reviews for com.medexplus.digitalitsheba.app\n"
          ]
        },
        {
          "output_type": "stream",
          "name": "stderr",
          "text": [
            "<timed exec>:40: FutureWarning: The behavior of DataFrame concatenation with empty or all-NA entries is deprecated. In a future version, this will no longer exclude empty or all-NA columns when determining the result dtypes. To retain the old behavior, exclude the relevant entries before the concat operation.\n"
          ]
        },
        {
          "output_type": "stream",
          "name": "stdout",
          "text": [
            "Successfully scraped reviews for com.bizit.doctor.appointment\n"
          ]
        },
        {
          "output_type": "stream",
          "name": "stderr",
          "text": [
            "<timed exec>:40: FutureWarning: The behavior of DataFrame concatenation with empty or all-NA entries is deprecated. In a future version, this will no longer exclude empty or all-NA columns when determining the result dtypes. To retain the old behavior, exclude the relevant entries before the concat operation.\n"
          ]
        },
        {
          "output_type": "stream",
          "name": "stdout",
          "text": [
            "Successfully scraped reviews for com.simpleappsvault.temperaturethermometerdiary\n",
            "Successfully scraped reviews for com.msd.professional\n",
            "Successfully scraped reviews for com.bondhu.daktar.daktarbondhu\n",
            "Failed to scrape reviews for com.arbondhu: \"['userImage', 'reviewCreatedVersion'] not found in axis\"\n",
            "Successfully scraped reviews for com.media365ltd.doctime\n",
            "Successfully scraped reviews for com.msd.consumer\n",
            "Successfully scraped reviews for com.makio.medica\n"
          ]
        },
        {
          "output_type": "stream",
          "name": "stderr",
          "text": [
            "<timed exec>:40: FutureWarning: The behavior of DataFrame concatenation with empty or all-NA entries is deprecated. In a future version, this will no longer exclude empty or all-NA columns when determining the result dtypes. To retain the old behavior, exclude the relevant entries before the concat operation.\n"
          ]
        },
        {
          "output_type": "stream",
          "name": "stdout",
          "text": [
            "Successfully scraped reviews for com.nhcps.medicode\n",
            "Successfully scraped reviews for com.healthtipsbd.medicineapp\n",
            "Successfully scraped reviews for da.bd.drug.directory\n",
            "Successfully scraped reviews for com.classnotebd.docterapp\n",
            "Successfully scraped reviews for com.blood.sugar.tracker.glucometer.Diary.test.diabetes.checker.info.glucose.convert.logger.health.fitness.monitor.history\n",
            "Successfully scraped reviews for com.classnotesbd.kobiraji_chikitsa_book\n"
          ]
        },
        {
          "output_type": "stream",
          "name": "stderr",
          "text": [
            "<timed exec>:40: FutureWarning: The behavior of DataFrame concatenation with empty or all-NA entries is deprecated. In a future version, this will no longer exclude empty or all-NA columns when determining the result dtypes. To retain the old behavior, exclude the relevant entries before the concat operation.\n"
          ]
        },
        {
          "output_type": "stream",
          "name": "stdout",
          "text": [
            "Failed to scrape reviews for xray.body.scanne.ronasoftstudiosr.simulator.filter.camera: \"['userImage', 'reviewCreatedVersion'] not found in axis\"\n",
            "Successfully scraped reviews for com.ronasoftstudios.earmaxfxpro\n",
            "Successfully scraped reviews for com.osudpotro\n"
          ]
        },
        {
          "output_type": "stream",
          "name": "stderr",
          "text": [
            "<timed exec>:40: FutureWarning: The behavior of DataFrame concatenation with empty or all-NA entries is deprecated. In a future version, this will no longer exclude empty or all-NA columns when determining the result dtypes. To retain the old behavior, exclude the relevant entries before the concat operation.\n"
          ]
        },
        {
          "output_type": "stream",
          "name": "stdout",
          "text": [
            "Successfully scraped reviews for com.codersbucket.surokkha_app\n",
            "Successfully scraped reviews for com.itmedicus.dimsvet\n",
            "Successfully scraped reviews for in.naskar.achal.homoeopathy\n"
          ]
        },
        {
          "output_type": "stream",
          "name": "stderr",
          "text": [
            "<timed exec>:40: FutureWarning: The behavior of DataFrame concatenation with empty or all-NA entries is deprecated. In a future version, this will no longer exclude empty or all-NA columns when determining the result dtypes. To retain the old behavior, exclude the relevant entries before the concat operation.\n"
          ]
        },
        {
          "output_type": "stream",
          "name": "stdout",
          "text": [
            "Failed to scrape reviews for com.bissoy.callomy3DViewer3: \"['userImage', 'reviewCreatedVersion'] not found in axis\"\n",
            "Failed to scrape reviews for : \"['userImage', 'reviewCreatedVersion'] not found in axis\"\n",
            "Successfully scraped reviews for com.drugscom.app\n",
            "Successfully scraped reviews for com.AnatomyLearning.Anatomy3DViewer3\n",
            "Successfully scraped reviews for org.narayanahealth.nhcare\n",
            "Successfully scraped reviews for com.Medical.Know.Pregnant.Mother\n",
            "Successfully scraped reviews for net.medshr.android\n",
            "Successfully scraped reviews for com.classnotebd.imagetotextword\n"
          ]
        },
        {
          "output_type": "stream",
          "name": "stderr",
          "text": [
            "<timed exec>:40: FutureWarning: The behavior of DataFrame concatenation with empty or all-NA entries is deprecated. In a future version, this will no longer exclude empty or all-NA columns when determining the result dtypes. To retain the old behavior, exclude the relevant entries before the concat operation.\n",
            "<timed exec>:40: FutureWarning: The behavior of DataFrame concatenation with empty or all-NA entries is deprecated. In a future version, this will no longer exclude empty or all-NA columns when determining the result dtypes. To retain the old behavior, exclude the relevant entries before the concat operation.\n"
          ]
        },
        {
          "output_type": "stream",
          "name": "stdout",
          "text": [
            "Successfully scraped reviews for com.classnotesbd.homeopathy_guide_book\n",
            "Successfully scraped reviews for com.mobisystems.msdict.embedded.wireless.oxford.concisemedical\n"
          ]
        },
        {
          "output_type": "stream",
          "name": "stderr",
          "text": [
            "<timed exec>:40: FutureWarning: The behavior of DataFrame concatenation with empty or all-NA entries is deprecated. In a future version, this will no longer exclude empty or all-NA columns when determining the result dtypes. To retain the old behavior, exclude the relevant entries before the concat operation.\n"
          ]
        },
        {
          "output_type": "stream",
          "name": "stdout",
          "text": [
            "Successfully scraped reviews for com.healtho_max.app.production\n",
            "Failed to scrape reviews for com.catfishanimationstudio.MuscularSystemLtreatment: \"['userImage', 'reviewCreatedVersion'] not found in axis\"\n",
            "Failed to scrape reviews for comite: \"['userImage', 'reviewCreatedVersion'] not found in axis\"\n",
            "Successfully scraped reviews for sqh.jotno.patient\n"
          ]
        },
        {
          "output_type": "stream",
          "name": "stderr",
          "text": [
            "<timed exec>:40: FutureWarning: The behavior of DataFrame concatenation with empty or all-NA entries is deprecated. In a future version, this will no longer exclude empty or all-NA columns when determining the result dtypes. To retain the old behavior, exclude the relevant entries before the concat operation.\n"
          ]
        },
        {
          "output_type": "stream",
          "name": "stdout",
          "text": [
            "Successfully scraped reviews for com.rtrg.xraywow\n"
          ]
        },
        {
          "output_type": "stream",
          "name": "stderr",
          "text": [
            "<timed exec>:40: FutureWarning: The behavior of DataFrame concatenation with empty or all-NA entries is deprecated. In a future version, this will no longer exclude empty or all-NA columns when determining the result dtypes. To retain the old behavior, exclude the relevant entries before the concat operation.\n"
          ]
        },
        {
          "output_type": "stream",
          "name": "stdout",
          "text": [
            "Successfully scraped reviews for com.sevenonelab.harbal_medicine_treatment\n",
            "Successfully scraped reviews for com.catfishanimationstudio.SkeletalSystemPreview\n"
          ]
        },
        {
          "output_type": "stream",
          "name": "stderr",
          "text": [
            "<timed exec>:40: FutureWarning: The behavior of DataFrame concatenation with empty or all-NA entries is deprecated. In a future version, this will no longer exclude empty or all-NA columns when determining the result dtypes. To retain the old behavior, exclude the relevant entries before the concat operation.\n"
          ]
        },
        {
          "output_type": "stream",
          "name": "stdout",
          "text": [
            "Successfully scraped reviews for me.sinacare.app.android\n",
            "Failed to scrape reviews for com.pulsetechCalendar: \"['userImage', 'reviewCreatedVersion'] not found in axis\"\n",
            "Failed to scrape reviews for com.ltd.medicart: \"['userImage', 'reviewCreatedVersion'] not found in axis\"\n"
          ]
        },
        {
          "output_type": "stream",
          "name": "stderr",
          "text": [
            "<timed exec>:40: FutureWarning: The behavior of DataFrame concatenation with empty or all-NA entries is deprecated. In a future version, this will no longer exclude empty or all-NA columns when determining the result dtypes. To retain the old behavior, exclude the relevant entries before the concat operation.\n"
          ]
        },
        {
          "output_type": "stream",
          "name": "stdout",
          "text": [
            "Successfully scraped reviews for com.sevenonelab.bangla_medicine_info\n",
            "Successfully scraped reviews for com.snonapps.aidoctor\n",
            "Successfully scraped reviews for com.lbrc.PeriodCalendar\n",
            "Successfully scraped reviews for com.EAGINsoftware.dejaloYa\n",
            "Successfully scraped reviews for io.healthos.androidecom\n",
            "Successfully scraped reviews for com.digitalbithub.shen\n",
            "Successfully scraped reviews for com.farmer.disease.animal.farm\n",
            "CPU times: user 12.2 s, sys: 893 ms, total: 13.1 s\n",
            "Wall time: 1min 2s\n"
          ]
        }
      ]
    },
    {
      "cell_type": "code",
      "source": [
        "# Display the final DataFrame\n",
        "all_reviews_df\n",
        "\n",
        "# Save the DataFrame to a CSV file with an escape character to handle special characters\n",
        "all_reviews_df.to_csv('all_app_reviews.csv', index=False, escapechar='\\\\')"
      ],
      "metadata": {
        "id": "c3h2vST4AL1o"
      },
      "execution_count": 7,
      "outputs": []
    },
    {
      "cell_type": "code",
      "source": [
        "all_reviews_df.head()"
      ],
      "metadata": {
        "id": "3t845r1FALqw",
        "outputId": "d8ef0291-5f78-45fb-d73e-f5453c6e29b2",
        "colab": {
          "base_uri": "https://localhost:8080/",
          "height": 487
        }
      },
      "execution_count": 8,
      "outputs": [
        {
          "output_type": "execute_result",
          "data": {
            "text/plain": [
              "        source                             review_id      user_name  \\\n",
              "0  Google Play  d33f5fbd-e904-4c35-a29d-9bf66d393aa1  A Google user   \n",
              "1  Google Play  b1c90db8-c97e-401a-87db-f970ad5b7ce3  A Google user   \n",
              "2  Google Play  fd85498c-702e-4bc7-8cde-70411670e214  A Google user   \n",
              "3  Google Play  b8cc25c1-40c1-46d9-a238-bf0116de6ac4  A Google user   \n",
              "4  Google Play  c0dfc093-493f-4906-80cb-1de222fbb02b  A Google user   \n",
              "\n",
              "  review_title review_description  rating  thumbs_up         review_date  \\\n",
              "0         None               nice       5          0 2024-10-10 12:50:00   \n",
              "1         None               good       5          0 2024-10-10 12:43:03   \n",
              "2         None               good       5          0 2024-10-10 12:35:00   \n",
              "3         None               good       5          0 2024-10-10 12:18:52   \n",
              "4         None             good 😊       4          0 2024-10-10 11:39:51   \n",
              "\n",
              "  developer_response developer_response_date appVersion language_code  \\\n",
              "0               None                     NaT       None            en   \n",
              "1               None                     NaT      2.1.8            en   \n",
              "2               None                     NaT      2.1.8            en   \n",
              "3               None                     NaT      2.1.8            en   \n",
              "4               None                     NaT      2.1.8            en   \n",
              "\n",
              "  country_code        app_name  \n",
              "0           us  com.twgbd.dims  \n",
              "1           us  com.twgbd.dims  \n",
              "2           us  com.twgbd.dims  \n",
              "3           us  com.twgbd.dims  \n",
              "4           us  com.twgbd.dims  "
            ],
            "text/html": [
              "\n",
              "  <div id=\"df-8cc76242-ac31-486b-976d-bd07ef58e092\" class=\"colab-df-container\">\n",
              "    <div>\n",
              "<style scoped>\n",
              "    .dataframe tbody tr th:only-of-type {\n",
              "        vertical-align: middle;\n",
              "    }\n",
              "\n",
              "    .dataframe tbody tr th {\n",
              "        vertical-align: top;\n",
              "    }\n",
              "\n",
              "    .dataframe thead th {\n",
              "        text-align: right;\n",
              "    }\n",
              "</style>\n",
              "<table border=\"1\" class=\"dataframe\">\n",
              "  <thead>\n",
              "    <tr style=\"text-align: right;\">\n",
              "      <th></th>\n",
              "      <th>source</th>\n",
              "      <th>review_id</th>\n",
              "      <th>user_name</th>\n",
              "      <th>review_title</th>\n",
              "      <th>review_description</th>\n",
              "      <th>rating</th>\n",
              "      <th>thumbs_up</th>\n",
              "      <th>review_date</th>\n",
              "      <th>developer_response</th>\n",
              "      <th>developer_response_date</th>\n",
              "      <th>appVersion</th>\n",
              "      <th>language_code</th>\n",
              "      <th>country_code</th>\n",
              "      <th>app_name</th>\n",
              "    </tr>\n",
              "  </thead>\n",
              "  <tbody>\n",
              "    <tr>\n",
              "      <th>0</th>\n",
              "      <td>Google Play</td>\n",
              "      <td>d33f5fbd-e904-4c35-a29d-9bf66d393aa1</td>\n",
              "      <td>A Google user</td>\n",
              "      <td>None</td>\n",
              "      <td>nice</td>\n",
              "      <td>5</td>\n",
              "      <td>0</td>\n",
              "      <td>2024-10-10 12:50:00</td>\n",
              "      <td>None</td>\n",
              "      <td>NaT</td>\n",
              "      <td>None</td>\n",
              "      <td>en</td>\n",
              "      <td>us</td>\n",
              "      <td>com.twgbd.dims</td>\n",
              "    </tr>\n",
              "    <tr>\n",
              "      <th>1</th>\n",
              "      <td>Google Play</td>\n",
              "      <td>b1c90db8-c97e-401a-87db-f970ad5b7ce3</td>\n",
              "      <td>A Google user</td>\n",
              "      <td>None</td>\n",
              "      <td>good</td>\n",
              "      <td>5</td>\n",
              "      <td>0</td>\n",
              "      <td>2024-10-10 12:43:03</td>\n",
              "      <td>None</td>\n",
              "      <td>NaT</td>\n",
              "      <td>2.1.8</td>\n",
              "      <td>en</td>\n",
              "      <td>us</td>\n",
              "      <td>com.twgbd.dims</td>\n",
              "    </tr>\n",
              "    <tr>\n",
              "      <th>2</th>\n",
              "      <td>Google Play</td>\n",
              "      <td>fd85498c-702e-4bc7-8cde-70411670e214</td>\n",
              "      <td>A Google user</td>\n",
              "      <td>None</td>\n",
              "      <td>good</td>\n",
              "      <td>5</td>\n",
              "      <td>0</td>\n",
              "      <td>2024-10-10 12:35:00</td>\n",
              "      <td>None</td>\n",
              "      <td>NaT</td>\n",
              "      <td>2.1.8</td>\n",
              "      <td>en</td>\n",
              "      <td>us</td>\n",
              "      <td>com.twgbd.dims</td>\n",
              "    </tr>\n",
              "    <tr>\n",
              "      <th>3</th>\n",
              "      <td>Google Play</td>\n",
              "      <td>b8cc25c1-40c1-46d9-a238-bf0116de6ac4</td>\n",
              "      <td>A Google user</td>\n",
              "      <td>None</td>\n",
              "      <td>good</td>\n",
              "      <td>5</td>\n",
              "      <td>0</td>\n",
              "      <td>2024-10-10 12:18:52</td>\n",
              "      <td>None</td>\n",
              "      <td>NaT</td>\n",
              "      <td>2.1.8</td>\n",
              "      <td>en</td>\n",
              "      <td>us</td>\n",
              "      <td>com.twgbd.dims</td>\n",
              "    </tr>\n",
              "    <tr>\n",
              "      <th>4</th>\n",
              "      <td>Google Play</td>\n",
              "      <td>c0dfc093-493f-4906-80cb-1de222fbb02b</td>\n",
              "      <td>A Google user</td>\n",
              "      <td>None</td>\n",
              "      <td>good 😊</td>\n",
              "      <td>4</td>\n",
              "      <td>0</td>\n",
              "      <td>2024-10-10 11:39:51</td>\n",
              "      <td>None</td>\n",
              "      <td>NaT</td>\n",
              "      <td>2.1.8</td>\n",
              "      <td>en</td>\n",
              "      <td>us</td>\n",
              "      <td>com.twgbd.dims</td>\n",
              "    </tr>\n",
              "  </tbody>\n",
              "</table>\n",
              "</div>\n",
              "    <div class=\"colab-df-buttons\">\n",
              "\n",
              "  <div class=\"colab-df-container\">\n",
              "    <button class=\"colab-df-convert\" onclick=\"convertToInteractive('df-8cc76242-ac31-486b-976d-bd07ef58e092')\"\n",
              "            title=\"Convert this dataframe to an interactive table.\"\n",
              "            style=\"display:none;\">\n",
              "\n",
              "  <svg xmlns=\"http://www.w3.org/2000/svg\" height=\"24px\" viewBox=\"0 -960 960 960\">\n",
              "    <path d=\"M120-120v-720h720v720H120Zm60-500h600v-160H180v160Zm220 220h160v-160H400v160Zm0 220h160v-160H400v160ZM180-400h160v-160H180v160Zm440 0h160v-160H620v160ZM180-180h160v-160H180v160Zm440 0h160v-160H620v160Z\"/>\n",
              "  </svg>\n",
              "    </button>\n",
              "\n",
              "  <style>\n",
              "    .colab-df-container {\n",
              "      display:flex;\n",
              "      gap: 12px;\n",
              "    }\n",
              "\n",
              "    .colab-df-convert {\n",
              "      background-color: #E8F0FE;\n",
              "      border: none;\n",
              "      border-radius: 50%;\n",
              "      cursor: pointer;\n",
              "      display: none;\n",
              "      fill: #1967D2;\n",
              "      height: 32px;\n",
              "      padding: 0 0 0 0;\n",
              "      width: 32px;\n",
              "    }\n",
              "\n",
              "    .colab-df-convert:hover {\n",
              "      background-color: #E2EBFA;\n",
              "      box-shadow: 0px 1px 2px rgba(60, 64, 67, 0.3), 0px 1px 3px 1px rgba(60, 64, 67, 0.15);\n",
              "      fill: #174EA6;\n",
              "    }\n",
              "\n",
              "    .colab-df-buttons div {\n",
              "      margin-bottom: 4px;\n",
              "    }\n",
              "\n",
              "    [theme=dark] .colab-df-convert {\n",
              "      background-color: #3B4455;\n",
              "      fill: #D2E3FC;\n",
              "    }\n",
              "\n",
              "    [theme=dark] .colab-df-convert:hover {\n",
              "      background-color: #434B5C;\n",
              "      box-shadow: 0px 1px 3px 1px rgba(0, 0, 0, 0.15);\n",
              "      filter: drop-shadow(0px 1px 2px rgba(0, 0, 0, 0.3));\n",
              "      fill: #FFFFFF;\n",
              "    }\n",
              "  </style>\n",
              "\n",
              "    <script>\n",
              "      const buttonEl =\n",
              "        document.querySelector('#df-8cc76242-ac31-486b-976d-bd07ef58e092 button.colab-df-convert');\n",
              "      buttonEl.style.display =\n",
              "        google.colab.kernel.accessAllowed ? 'block' : 'none';\n",
              "\n",
              "      async function convertToInteractive(key) {\n",
              "        const element = document.querySelector('#df-8cc76242-ac31-486b-976d-bd07ef58e092');\n",
              "        const dataTable =\n",
              "          await google.colab.kernel.invokeFunction('convertToInteractive',\n",
              "                                                    [key], {});\n",
              "        if (!dataTable) return;\n",
              "\n",
              "        const docLinkHtml = 'Like what you see? Visit the ' +\n",
              "          '<a target=\"_blank\" href=https://colab.research.google.com/notebooks/data_table.ipynb>data table notebook</a>'\n",
              "          + ' to learn more about interactive tables.';\n",
              "        element.innerHTML = '';\n",
              "        dataTable['output_type'] = 'display_data';\n",
              "        await google.colab.output.renderOutput(dataTable, element);\n",
              "        const docLink = document.createElement('div');\n",
              "        docLink.innerHTML = docLinkHtml;\n",
              "        element.appendChild(docLink);\n",
              "      }\n",
              "    </script>\n",
              "  </div>\n",
              "\n",
              "\n",
              "<div id=\"df-d4a5d794-a18a-42f0-8653-a579228d3893\">\n",
              "  <button class=\"colab-df-quickchart\" onclick=\"quickchart('df-d4a5d794-a18a-42f0-8653-a579228d3893')\"\n",
              "            title=\"Suggest charts\"\n",
              "            style=\"display:none;\">\n",
              "\n",
              "<svg xmlns=\"http://www.w3.org/2000/svg\" height=\"24px\"viewBox=\"0 0 24 24\"\n",
              "     width=\"24px\">\n",
              "    <g>\n",
              "        <path d=\"M19 3H5c-1.1 0-2 .9-2 2v14c0 1.1.9 2 2 2h14c1.1 0 2-.9 2-2V5c0-1.1-.9-2-2-2zM9 17H7v-7h2v7zm4 0h-2V7h2v10zm4 0h-2v-4h2v4z\"/>\n",
              "    </g>\n",
              "</svg>\n",
              "  </button>\n",
              "\n",
              "<style>\n",
              "  .colab-df-quickchart {\n",
              "      --bg-color: #E8F0FE;\n",
              "      --fill-color: #1967D2;\n",
              "      --hover-bg-color: #E2EBFA;\n",
              "      --hover-fill-color: #174EA6;\n",
              "      --disabled-fill-color: #AAA;\n",
              "      --disabled-bg-color: #DDD;\n",
              "  }\n",
              "\n",
              "  [theme=dark] .colab-df-quickchart {\n",
              "      --bg-color: #3B4455;\n",
              "      --fill-color: #D2E3FC;\n",
              "      --hover-bg-color: #434B5C;\n",
              "      --hover-fill-color: #FFFFFF;\n",
              "      --disabled-bg-color: #3B4455;\n",
              "      --disabled-fill-color: #666;\n",
              "  }\n",
              "\n",
              "  .colab-df-quickchart {\n",
              "    background-color: var(--bg-color);\n",
              "    border: none;\n",
              "    border-radius: 50%;\n",
              "    cursor: pointer;\n",
              "    display: none;\n",
              "    fill: var(--fill-color);\n",
              "    height: 32px;\n",
              "    padding: 0;\n",
              "    width: 32px;\n",
              "  }\n",
              "\n",
              "  .colab-df-quickchart:hover {\n",
              "    background-color: var(--hover-bg-color);\n",
              "    box-shadow: 0 1px 2px rgba(60, 64, 67, 0.3), 0 1px 3px 1px rgba(60, 64, 67, 0.15);\n",
              "    fill: var(--button-hover-fill-color);\n",
              "  }\n",
              "\n",
              "  .colab-df-quickchart-complete:disabled,\n",
              "  .colab-df-quickchart-complete:disabled:hover {\n",
              "    background-color: var(--disabled-bg-color);\n",
              "    fill: var(--disabled-fill-color);\n",
              "    box-shadow: none;\n",
              "  }\n",
              "\n",
              "  .colab-df-spinner {\n",
              "    border: 2px solid var(--fill-color);\n",
              "    border-color: transparent;\n",
              "    border-bottom-color: var(--fill-color);\n",
              "    animation:\n",
              "      spin 1s steps(1) infinite;\n",
              "  }\n",
              "\n",
              "  @keyframes spin {\n",
              "    0% {\n",
              "      border-color: transparent;\n",
              "      border-bottom-color: var(--fill-color);\n",
              "      border-left-color: var(--fill-color);\n",
              "    }\n",
              "    20% {\n",
              "      border-color: transparent;\n",
              "      border-left-color: var(--fill-color);\n",
              "      border-top-color: var(--fill-color);\n",
              "    }\n",
              "    30% {\n",
              "      border-color: transparent;\n",
              "      border-left-color: var(--fill-color);\n",
              "      border-top-color: var(--fill-color);\n",
              "      border-right-color: var(--fill-color);\n",
              "    }\n",
              "    40% {\n",
              "      border-color: transparent;\n",
              "      border-right-color: var(--fill-color);\n",
              "      border-top-color: var(--fill-color);\n",
              "    }\n",
              "    60% {\n",
              "      border-color: transparent;\n",
              "      border-right-color: var(--fill-color);\n",
              "    }\n",
              "    80% {\n",
              "      border-color: transparent;\n",
              "      border-right-color: var(--fill-color);\n",
              "      border-bottom-color: var(--fill-color);\n",
              "    }\n",
              "    90% {\n",
              "      border-color: transparent;\n",
              "      border-bottom-color: var(--fill-color);\n",
              "    }\n",
              "  }\n",
              "</style>\n",
              "\n",
              "  <script>\n",
              "    async function quickchart(key) {\n",
              "      const quickchartButtonEl =\n",
              "        document.querySelector('#' + key + ' button');\n",
              "      quickchartButtonEl.disabled = true;  // To prevent multiple clicks.\n",
              "      quickchartButtonEl.classList.add('colab-df-spinner');\n",
              "      try {\n",
              "        const charts = await google.colab.kernel.invokeFunction(\n",
              "            'suggestCharts', [key], {});\n",
              "      } catch (error) {\n",
              "        console.error('Error during call to suggestCharts:', error);\n",
              "      }\n",
              "      quickchartButtonEl.classList.remove('colab-df-spinner');\n",
              "      quickchartButtonEl.classList.add('colab-df-quickchart-complete');\n",
              "    }\n",
              "    (() => {\n",
              "      let quickchartButtonEl =\n",
              "        document.querySelector('#df-d4a5d794-a18a-42f0-8653-a579228d3893 button');\n",
              "      quickchartButtonEl.style.display =\n",
              "        google.colab.kernel.accessAllowed ? 'block' : 'none';\n",
              "    })();\n",
              "  </script>\n",
              "</div>\n",
              "\n",
              "    </div>\n",
              "  </div>\n"
            ],
            "application/vnd.google.colaboratory.intrinsic+json": {
              "type": "dataframe",
              "variable_name": "all_reviews_df",
              "repr_error": "Out of range float values are not JSON compliant: nan"
            }
          },
          "metadata": {},
          "execution_count": 8
        }
      ]
    },
    {
      "cell_type": "code",
      "source": [
        "all_reviews_df.shape"
      ],
      "metadata": {
        "id": "ogCaHNL75r6K",
        "outputId": "6027722e-7311-47fc-b419-07eec2823f4b",
        "colab": {
          "base_uri": "https://localhost:8080/"
        }
      },
      "execution_count": 9,
      "outputs": [
        {
          "output_type": "execute_result",
          "data": {
            "text/plain": [
              "(99395, 14)"
            ]
          },
          "metadata": {},
          "execution_count": 9
        }
      ]
    },
    {
      "cell_type": "code",
      "source": [
        "all_reviews_df.review_description.info()"
      ],
      "metadata": {
        "id": "NqvjBs6DZtFk",
        "outputId": "18ced0b1-44bc-4907-9bb9-8cbe0d4d0750",
        "colab": {
          "base_uri": "https://localhost:8080/"
        }
      },
      "execution_count": 11,
      "outputs": [
        {
          "output_type": "stream",
          "name": "stdout",
          "text": [
            "<class 'pandas.core.series.Series'>\n",
            "RangeIndex: 99395 entries, 0 to 99394\n",
            "Series name: review_description\n",
            "Non-Null Count  Dtype \n",
            "--------------  ----- \n",
            "99361 non-null  object\n",
            "dtypes: object(1)\n",
            "memory usage: 776.6+ KB\n"
          ]
        }
      ]
    },
    {
      "cell_type": "code",
      "source": [],
      "metadata": {
        "id": "xU0kbPX2bjGR"
      },
      "execution_count": null,
      "outputs": []
    }
  ]
}