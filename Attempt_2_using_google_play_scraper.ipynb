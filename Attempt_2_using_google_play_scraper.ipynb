{
  "nbformat": 4,
  "nbformat_minor": 0,
  "metadata": {
    "colab": {
      "provenance": [],
      "authorship_tag": "ABX9TyPj2uSXV9gnhYEW3Tgyy2Ds",
      "include_colab_link": true
    },
    "kernelspec": {
      "name": "python3",
      "display_name": "Python 3"
    },
    "language_info": {
      "name": "python"
    }
  },
  "cells": [
    {
      "cell_type": "markdown",
      "metadata": {
        "id": "view-in-github",
        "colab_type": "text"
      },
      "source": [
        "<a href=\"https://colab.research.google.com/github/amanullahshah32/Review-Scraping/blob/main/Attempt_2_using_google_play_scraper.ipynb\" target=\"_parent\"><img src=\"https://colab.research.google.com/assets/colab-badge.svg\" alt=\"Open In Colab\"/></a>"
      ]
    },
    {
      "cell_type": "markdown",
      "source": [
        "## **Install Libraries**"
      ],
      "metadata": {
        "id": "y-6h-KpCcDWl"
      }
    },
    {
      "cell_type": "code",
      "source": [
        "!pip install google-play-scraper\n"
      ],
      "metadata": {
        "colab": {
          "base_uri": "https://localhost:8080/"
        },
        "id": "Uouj5EcYSQxl",
        "outputId": "3ada0565-b69d-4316-b6ac-be4959a153a5"
      },
      "execution_count": 2,
      "outputs": [
        {
          "output_type": "stream",
          "name": "stdout",
          "text": [
            "Collecting google-play-scraper\n",
            "  Downloading google_play_scraper-1.2.7-py3-none-any.whl.metadata (50 kB)\n",
            "\u001b[?25l     \u001b[90m━━━━━━━━━━━━━━━━━━━━━━━━━━━━━━━━━━━━━━━━\u001b[0m \u001b[32m0.0/50.2 kB\u001b[0m \u001b[31m?\u001b[0m eta \u001b[36m-:--:--\u001b[0m\r\u001b[2K     \u001b[90m━━━━━━━━━━━━━━━━━━━━━━━━━━━━━━━━━━━━━━━━\u001b[0m \u001b[32m50.2/50.2 kB\u001b[0m \u001b[31m1.6 MB/s\u001b[0m eta \u001b[36m0:00:00\u001b[0m\n",
            "\u001b[?25hDownloading google_play_scraper-1.2.7-py3-none-any.whl (28 kB)\n",
            "Installing collected packages: google-play-scraper\n",
            "Successfully installed google-play-scraper-1.2.7\n"
          ]
        }
      ]
    },
    {
      "cell_type": "code",
      "source": [
        "!pip install app_store_scraper\n"
      ],
      "metadata": {
        "colab": {
          "base_uri": "https://localhost:8080/"
        },
        "id": "Nb7kO2tVSUGl",
        "outputId": "2dcbf7c4-f97a-4b20-acec-035cb32ca50b"
      },
      "execution_count": 3,
      "outputs": [
        {
          "output_type": "stream",
          "name": "stdout",
          "text": [
            "Collecting app_store_scraper\n",
            "  Downloading app_store_scraper-0.3.5-py3-none-any.whl.metadata (5.1 kB)\n",
            "Collecting requests==2.23.0 (from app_store_scraper)\n",
            "  Downloading requests-2.23.0-py2.py3-none-any.whl.metadata (6.8 kB)\n",
            "Collecting chardet<4,>=3.0.2 (from requests==2.23.0->app_store_scraper)\n",
            "  Downloading chardet-3.0.4-py2.py3-none-any.whl.metadata (3.2 kB)\n",
            "Collecting idna<3,>=2.5 (from requests==2.23.0->app_store_scraper)\n",
            "  Downloading idna-2.10-py2.py3-none-any.whl.metadata (9.1 kB)\n",
            "Collecting urllib3!=1.25.0,!=1.25.1,<1.26,>=1.21.1 (from requests==2.23.0->app_store_scraper)\n",
            "  Downloading urllib3-1.25.11-py2.py3-none-any.whl.metadata (41 kB)\n",
            "\u001b[2K     \u001b[90m━━━━━━━━━━━━━━━━━━━━━━━━━━━━━━━━━━━━━━━━\u001b[0m \u001b[32m41.1/41.1 kB\u001b[0m \u001b[31m1.5 MB/s\u001b[0m eta \u001b[36m0:00:00\u001b[0m\n",
            "\u001b[?25hRequirement already satisfied: certifi>=2017.4.17 in /usr/local/lib/python3.10/dist-packages (from requests==2.23.0->app_store_scraper) (2024.8.30)\n",
            "Downloading app_store_scraper-0.3.5-py3-none-any.whl (8.3 kB)\n",
            "Downloading requests-2.23.0-py2.py3-none-any.whl (58 kB)\n",
            "\u001b[2K   \u001b[90m━━━━━━━━━━━━━━━━━━━━━━━━━━━━━━━━━━━━━━━━\u001b[0m \u001b[32m58.4/58.4 kB\u001b[0m \u001b[31m4.2 MB/s\u001b[0m eta \u001b[36m0:00:00\u001b[0m\n",
            "\u001b[?25hDownloading chardet-3.0.4-py2.py3-none-any.whl (133 kB)\n",
            "\u001b[2K   \u001b[90m━━━━━━━━━━━━━━━━━━━━━━━━━━━━━━━━━━━━━━━━\u001b[0m \u001b[32m133.4/133.4 kB\u001b[0m \u001b[31m6.1 MB/s\u001b[0m eta \u001b[36m0:00:00\u001b[0m\n",
            "\u001b[?25hDownloading idna-2.10-py2.py3-none-any.whl (58 kB)\n",
            "\u001b[2K   \u001b[90m━━━━━━━━━━━━━━━━━━━━━━━━━━━━━━━━━━━━━━━━\u001b[0m \u001b[32m58.8/58.8 kB\u001b[0m \u001b[31m4.9 MB/s\u001b[0m eta \u001b[36m0:00:00\u001b[0m\n",
            "\u001b[?25hDownloading urllib3-1.25.11-py2.py3-none-any.whl (127 kB)\n",
            "\u001b[2K   \u001b[90m━━━━━━━━━━━━━━━━━━━━━━━━━━━━━━━━━━━━━━━━\u001b[0m \u001b[32m128.0/128.0 kB\u001b[0m \u001b[31m13.0 MB/s\u001b[0m eta \u001b[36m0:00:00\u001b[0m\n",
            "\u001b[?25hInstalling collected packages: chardet, urllib3, idna, requests, app_store_scraper\n",
            "  Attempting uninstall: chardet\n",
            "    Found existing installation: chardet 5.2.0\n",
            "    Uninstalling chardet-5.2.0:\n",
            "      Successfully uninstalled chardet-5.2.0\n",
            "  Attempting uninstall: urllib3\n",
            "    Found existing installation: urllib3 2.2.3\n",
            "    Uninstalling urllib3-2.2.3:\n",
            "      Successfully uninstalled urllib3-2.2.3\n",
            "  Attempting uninstall: idna\n",
            "    Found existing installation: idna 3.10\n",
            "    Uninstalling idna-3.10:\n",
            "      Successfully uninstalled idna-3.10\n",
            "  Attempting uninstall: requests\n",
            "    Found existing installation: requests 2.32.3\n",
            "    Uninstalling requests-2.32.3:\n",
            "      Successfully uninstalled requests-2.32.3\n",
            "\u001b[31mERROR: pip's dependency resolver does not currently take into account all the packages that are installed. This behaviour is the source of the following dependency conflicts.\n",
            "bigframes 1.18.0 requires requests>=2.27.1, but you have requests 2.23.0 which is incompatible.\n",
            "google-colab 1.0.0 requires requests==2.32.3, but you have requests 2.23.0 which is incompatible.\n",
            "tweepy 4.14.0 requires requests<3,>=2.27.0, but you have requests 2.23.0 which is incompatible.\n",
            "yfinance 0.2.43 requires requests>=2.31, but you have requests 2.23.0 which is incompatible.\u001b[0m\u001b[31m\n",
            "\u001b[0mSuccessfully installed app_store_scraper-0.3.5 chardet-3.0.4 idna-2.10 requests-2.23.0 urllib3-1.25.11\n"
          ]
        }
      ]
    },
    {
      "cell_type": "markdown",
      "source": [
        "## **Import Dependencies**"
      ],
      "metadata": {
        "id": "QRyrnYKKcIxV"
      }
    },
    {
      "cell_type": "code",
      "execution_count": 9,
      "metadata": {
        "id": "Veo-WFVCRi8C"
      },
      "outputs": [],
      "source": [
        "from google_play_scraper import app, Sort, reviews_all\n",
        "from app_store_scraper import AppStore\n",
        "import pandas as pd\n",
        "import numpy as np\n",
        "import json, os, uuid"
      ]
    },
    {
      "cell_type": "markdown",
      "source": [
        "## **Google Play Store reviews**"
      ],
      "metadata": {
        "id": "56293VFRcMUG"
      }
    },
    {
      "cell_type": "code",
      "source": [
        "app_lists = ['com.twgbd.dims', 'com.medexplus.digitalitsheba.app', 'com.bizit.doctor.appointment', 'com.simpleappsvault.temperaturethermometerdiary', 'com.msd.professional', 'com.bondhu.daktar.daktarbondhu', 'com.arbondhu', 'com.media365ltd.doctime', 'com.msd.consumer', 'com.makio.medica', 'com.nhcps.medicode', 'com.healthtipsbd.medicineapp', 'da.bd.drug.directory', 'com.classnotebd.docterapp','com.blood.sugar.tracker.glucometer.Diary.test.diabetes.checker.info.glucose.convert.logger.health.fitness.monitor.history', 'com.classnotesbd.kobiraji_chikitsa_book', 'xray.body.scanne.ronasoftstudiosr.simulator.filter.camera', 'com.ronasoftstudios.earmaxfxpro', 'com.osudpotro', 'com.codersbucket.surokkha_app', 'com.itmedicus.dimsvet', 'in.naskar.achal.homoeopathy', 'com.bissoy.callomy3DViewer3', '', 'com.drugscom.app', 'com.AnatomyLearning.Anatomy3DViewer3', 'org.narayanahealth.nhcare', 'com.Medical.Know.Pregnant.Mother', 'net.medshr.android', 'com.classnotebd.imagetotextword',\n",
        "'com.classnotesbd.homeopathy_guide_book', 'com.mobisystems.msdict.embedded.wireless.oxford.concisemedical', 'com.healtho_max.app.production', 'com.catfishanimationstudio.MuscularSystemLtreatment', 'comite', 'sqh.jotno.patient', 'com.rtrg.xraywow', 'com.sevenonelab.harbal_medicine_treatment', 'com.catfishanimationstudio.SkeletalSystemPreview', 'me.sinacare.app.android', 'com.pulsetechCalendar', 'com.ltd.medicart', 'com.sevenonelab.bangla_medicine_info', 'com.snonapps.aidoctor', 'com.lbrc.PeriodCalendar', 'com.EAGINsoftware.dejaloYa', 'io.healthos.androidecom', 'com.digitalbithub.shen', 'com.farmer.disease.animal.farm']"
      ],
      "metadata": {
        "id": "wfmMsph_3UIF"
      },
      "execution_count": 10,
      "outputs": []
    },
    {
      "cell_type": "code",
      "source": [
        "# Create an empty DataFrame to store all reviews\n",
        "all_reviews_df = pd.DataFrame()\n"
      ],
      "metadata": {
        "id": "htff4eEIAMJI"
      },
      "execution_count": 11,
      "outputs": []
    },
    {
      "cell_type": "code",
      "source": [
        "# Loop through the list of app package names and scrape reviews for each\n",
        "%%time\n",
        "for app in app_lists:\n",
        "    try:\n",
        "        # Scrape reviews for the current app\n",
        "        reviews = reviews_all(\n",
        "            app,\n",
        "            sleep_milliseconds=0,\n",
        "            lang='en',\n",
        "            sort=Sort.NEWEST\n",
        "        )\n",
        "\n",
        "        # Convert the reviews to a DataFrame\n",
        "        reviews_df = pd.DataFrame(np.array(reviews), columns=['review'])\n",
        "        reviews_df = reviews_df.join(pd.DataFrame(reviews_df.pop('review').tolist()))\n",
        "\n",
        "        # Drop unnecessary columns\n",
        "        reviews_df.drop(columns=['userImage', 'reviewCreatedVersion'], inplace=True)\n",
        "\n",
        "        # Rename columns to desired format\n",
        "        reviews_df.rename(columns={\n",
        "            'score': 'rating',\n",
        "            'userName': 'user_name',\n",
        "            'reviewId': 'review_id',\n",
        "            'content': 'review_description',\n",
        "            'at': 'review_date',\n",
        "            'replyContent': 'developer_response',\n",
        "            'repliedAt': 'developer_response_date',\n",
        "            'thumbsUpCount': 'thumbs_up'\n",
        "        }, inplace=True)\n",
        "\n",
        "        # Insert additional columns\n",
        "        reviews_df.insert(loc=0, column='source', value='Google Play')\n",
        "        reviews_df.insert(loc=3, column='review_title', value=None)\n",
        "        reviews_df['language_code'] = 'en'\n",
        "        reviews_df['country_code'] = 'us'\n",
        "\n",
        "        # Add a column for the app package name\n",
        "        reviews_df['app_name'] = app\n",
        "\n",
        "        # Append the current app's reviews to the full DataFrame\n",
        "        all_reviews_df = pd.concat([all_reviews_df, reviews_df], ignore_index=True)\n",
        "\n",
        "        print(f\"Successfully scraped reviews for {app}\")\n",
        "\n",
        "    except Exception as e:\n",
        "        print(f\"Failed to scrape reviews for {app}: {e}\")\n",
        "\n"
      ],
      "metadata": {
        "id": "EECnrnmaAL_4",
        "outputId": "998736a0-05b9-44f1-b52a-92000dc162ab",
        "colab": {
          "base_uri": "https://localhost:8080/"
        }
      },
      "execution_count": 12,
      "outputs": [
        {
          "output_type": "stream",
          "name": "stdout",
          "text": [
            "Successfully scraped reviews for com.twgbd.dims\n"
          ]
        },
        {
          "output_type": "stream",
          "name": "stderr",
          "text": [
            "<timed exec>:40: FutureWarning: The behavior of DataFrame concatenation with empty or all-NA entries is deprecated. In a future version, this will no longer exclude empty or all-NA columns when determining the result dtypes. To retain the old behavior, exclude the relevant entries before the concat operation.\n"
          ]
        },
        {
          "output_type": "stream",
          "name": "stdout",
          "text": [
            "Successfully scraped reviews for com.medexplus.digitalitsheba.app\n"
          ]
        },
        {
          "output_type": "stream",
          "name": "stderr",
          "text": [
            "<timed exec>:40: FutureWarning: The behavior of DataFrame concatenation with empty or all-NA entries is deprecated. In a future version, this will no longer exclude empty or all-NA columns when determining the result dtypes. To retain the old behavior, exclude the relevant entries before the concat operation.\n"
          ]
        },
        {
          "output_type": "stream",
          "name": "stdout",
          "text": [
            "Successfully scraped reviews for com.bizit.doctor.appointment\n"
          ]
        },
        {
          "output_type": "stream",
          "name": "stderr",
          "text": [
            "<timed exec>:40: FutureWarning: The behavior of DataFrame concatenation with empty or all-NA entries is deprecated. In a future version, this will no longer exclude empty or all-NA columns when determining the result dtypes. To retain the old behavior, exclude the relevant entries before the concat operation.\n"
          ]
        },
        {
          "output_type": "stream",
          "name": "stdout",
          "text": [
            "Successfully scraped reviews for com.simpleappsvault.temperaturethermometerdiary\n",
            "Successfully scraped reviews for com.msd.professional\n",
            "Successfully scraped reviews for com.bondhu.daktar.daktarbondhu\n",
            "Failed to scrape reviews for com.arbondhu: \"['userImage', 'reviewCreatedVersion'] not found in axis\"\n",
            "Successfully scraped reviews for com.media365ltd.doctime\n",
            "Successfully scraped reviews for com.msd.consumer\n"
          ]
        },
        {
          "output_type": "stream",
          "name": "stderr",
          "text": [
            "<timed exec>:40: FutureWarning: The behavior of DataFrame concatenation with empty or all-NA entries is deprecated. In a future version, this will no longer exclude empty or all-NA columns when determining the result dtypes. To retain the old behavior, exclude the relevant entries before the concat operation.\n"
          ]
        },
        {
          "output_type": "stream",
          "name": "stdout",
          "text": [
            "Successfully scraped reviews for com.makio.medica\n",
            "Successfully scraped reviews for com.nhcps.medicode\n",
            "Successfully scraped reviews for com.healthtipsbd.medicineapp\n",
            "Successfully scraped reviews for da.bd.drug.directory\n",
            "Successfully scraped reviews for com.classnotebd.docterapp\n",
            "Successfully scraped reviews for com.blood.sugar.tracker.glucometer.Diary.test.diabetes.checker.info.glucose.convert.logger.health.fitness.monitor.history\n"
          ]
        },
        {
          "output_type": "stream",
          "name": "stderr",
          "text": [
            "<timed exec>:40: FutureWarning: The behavior of DataFrame concatenation with empty or all-NA entries is deprecated. In a future version, this will no longer exclude empty or all-NA columns when determining the result dtypes. To retain the old behavior, exclude the relevant entries before the concat operation.\n"
          ]
        },
        {
          "output_type": "stream",
          "name": "stdout",
          "text": [
            "Successfully scraped reviews for com.classnotesbd.kobiraji_chikitsa_book\n",
            "Failed to scrape reviews for xray.body.scanne.ronasoftstudiosr.simulator.filter.camera: \"['userImage', 'reviewCreatedVersion'] not found in axis\"\n",
            "Successfully scraped reviews for com.ronasoftstudios.earmaxfxpro\n",
            "Successfully scraped reviews for com.osudpotro\n"
          ]
        },
        {
          "output_type": "stream",
          "name": "stderr",
          "text": [
            "<timed exec>:40: FutureWarning: The behavior of DataFrame concatenation with empty or all-NA entries is deprecated. In a future version, this will no longer exclude empty or all-NA columns when determining the result dtypes. To retain the old behavior, exclude the relevant entries before the concat operation.\n"
          ]
        },
        {
          "output_type": "stream",
          "name": "stdout",
          "text": [
            "Successfully scraped reviews for com.codersbucket.surokkha_app\n",
            "Successfully scraped reviews for com.itmedicus.dimsvet\n"
          ]
        },
        {
          "output_type": "stream",
          "name": "stderr",
          "text": [
            "<timed exec>:40: FutureWarning: The behavior of DataFrame concatenation with empty or all-NA entries is deprecated. In a future version, this will no longer exclude empty or all-NA columns when determining the result dtypes. To retain the old behavior, exclude the relevant entries before the concat operation.\n"
          ]
        },
        {
          "output_type": "stream",
          "name": "stdout",
          "text": [
            "Successfully scraped reviews for in.naskar.achal.homoeopathy\n",
            "Failed to scrape reviews for com.bissoy.callomy3DViewer3: \"['userImage', 'reviewCreatedVersion'] not found in axis\"\n",
            "Failed to scrape reviews for : \"['userImage', 'reviewCreatedVersion'] not found in axis\"\n",
            "Successfully scraped reviews for com.drugscom.app\n",
            "Successfully scraped reviews for com.AnatomyLearning.Anatomy3DViewer3\n",
            "Successfully scraped reviews for org.narayanahealth.nhcare\n",
            "Successfully scraped reviews for com.Medical.Know.Pregnant.Mother\n",
            "Successfully scraped reviews for net.medshr.android\n"
          ]
        },
        {
          "output_type": "stream",
          "name": "stderr",
          "text": [
            "<timed exec>:40: FutureWarning: The behavior of DataFrame concatenation with empty or all-NA entries is deprecated. In a future version, this will no longer exclude empty or all-NA columns when determining the result dtypes. To retain the old behavior, exclude the relevant entries before the concat operation.\n"
          ]
        },
        {
          "output_type": "stream",
          "name": "stdout",
          "text": [
            "Successfully scraped reviews for com.classnotebd.imagetotextword\n"
          ]
        },
        {
          "output_type": "stream",
          "name": "stderr",
          "text": [
            "<timed exec>:40: FutureWarning: The behavior of DataFrame concatenation with empty or all-NA entries is deprecated. In a future version, this will no longer exclude empty or all-NA columns when determining the result dtypes. To retain the old behavior, exclude the relevant entries before the concat operation.\n"
          ]
        },
        {
          "output_type": "stream",
          "name": "stdout",
          "text": [
            "Successfully scraped reviews for com.classnotesbd.homeopathy_guide_book\n",
            "Successfully scraped reviews for com.mobisystems.msdict.embedded.wireless.oxford.concisemedical\n"
          ]
        },
        {
          "output_type": "stream",
          "name": "stderr",
          "text": [
            "<timed exec>:40: FutureWarning: The behavior of DataFrame concatenation with empty or all-NA entries is deprecated. In a future version, this will no longer exclude empty or all-NA columns when determining the result dtypes. To retain the old behavior, exclude the relevant entries before the concat operation.\n"
          ]
        },
        {
          "output_type": "stream",
          "name": "stdout",
          "text": [
            "Successfully scraped reviews for com.healtho_max.app.production\n",
            "Failed to scrape reviews for com.catfishanimationstudio.MuscularSystemLtreatment: \"['userImage', 'reviewCreatedVersion'] not found in axis\"\n",
            "Failed to scrape reviews for comite: \"['userImage', 'reviewCreatedVersion'] not found in axis\"\n",
            "Successfully scraped reviews for sqh.jotno.patient\n"
          ]
        },
        {
          "output_type": "stream",
          "name": "stderr",
          "text": [
            "<timed exec>:40: FutureWarning: The behavior of DataFrame concatenation with empty or all-NA entries is deprecated. In a future version, this will no longer exclude empty or all-NA columns when determining the result dtypes. To retain the old behavior, exclude the relevant entries before the concat operation.\n"
          ]
        },
        {
          "output_type": "stream",
          "name": "stdout",
          "text": [
            "Successfully scraped reviews for com.rtrg.xraywow\n"
          ]
        },
        {
          "output_type": "stream",
          "name": "stderr",
          "text": [
            "<timed exec>:40: FutureWarning: The behavior of DataFrame concatenation with empty or all-NA entries is deprecated. In a future version, this will no longer exclude empty or all-NA columns when determining the result dtypes. To retain the old behavior, exclude the relevant entries before the concat operation.\n"
          ]
        },
        {
          "output_type": "stream",
          "name": "stdout",
          "text": [
            "Successfully scraped reviews for com.sevenonelab.harbal_medicine_treatment\n",
            "Successfully scraped reviews for com.catfishanimationstudio.SkeletalSystemPreview\n"
          ]
        },
        {
          "output_type": "stream",
          "name": "stderr",
          "text": [
            "<timed exec>:40: FutureWarning: The behavior of DataFrame concatenation with empty or all-NA entries is deprecated. In a future version, this will no longer exclude empty or all-NA columns when determining the result dtypes. To retain the old behavior, exclude the relevant entries before the concat operation.\n"
          ]
        },
        {
          "output_type": "stream",
          "name": "stdout",
          "text": [
            "Successfully scraped reviews for me.sinacare.app.android\n",
            "Failed to scrape reviews for com.pulsetechCalendar: \"['userImage', 'reviewCreatedVersion'] not found in axis\"\n",
            "Failed to scrape reviews for com.ltd.medicart: \"['userImage', 'reviewCreatedVersion'] not found in axis\"\n"
          ]
        },
        {
          "output_type": "stream",
          "name": "stderr",
          "text": [
            "<timed exec>:40: FutureWarning: The behavior of DataFrame concatenation with empty or all-NA entries is deprecated. In a future version, this will no longer exclude empty or all-NA columns when determining the result dtypes. To retain the old behavior, exclude the relevant entries before the concat operation.\n"
          ]
        },
        {
          "output_type": "stream",
          "name": "stdout",
          "text": [
            "Successfully scraped reviews for com.sevenonelab.bangla_medicine_info\n",
            "Successfully scraped reviews for com.snonapps.aidoctor\n",
            "Successfully scraped reviews for com.lbrc.PeriodCalendar\n",
            "Successfully scraped reviews for com.EAGINsoftware.dejaloYa\n",
            "Successfully scraped reviews for io.healthos.androidecom\n",
            "Successfully scraped reviews for com.digitalbithub.shen\n",
            "Successfully scraped reviews for com.farmer.disease.animal.farm\n",
            "CPU times: user 12.3 s, sys: 936 ms, total: 13.3 s\n",
            "Wall time: 57.4 s\n"
          ]
        }
      ]
    },
    {
      "cell_type": "code",
      "source": [
        "# Display the final DataFrame\n",
        "all_reviews_df\n",
        "\n",
        "# Save the DataFrame to a CSV file with an escape character to handle special characters\n",
        "all_reviews_df.to_csv('all_app_reviews.csv', index=False, escapechar='\\\\')"
      ],
      "metadata": {
        "id": "c3h2vST4AL1o"
      },
      "execution_count": 17,
      "outputs": []
    },
    {
      "cell_type": "code",
      "source": [],
      "metadata": {
        "id": "3t845r1FALqw"
      },
      "execution_count": null,
      "outputs": []
    },
    {
      "cell_type": "code",
      "source": [],
      "metadata": {
        "id": "ogCaHNL75r6K"
      },
      "execution_count": null,
      "outputs": []
    }
  ]
}